{
 "cells": [
  {
   "cell_type": "markdown",
   "id": "bae4dc06",
   "metadata": {},
   "source": [
    "# Dataset Link: https://www.kaggle.com/datasets/saurabhshahane/urdu-news-dataset"
   ]
  },
  {
   "cell_type": "code",
   "execution_count": 1,
   "id": "794b312c",
   "metadata": {},
   "outputs": [],
   "source": [
    "import pandas as pd\n",
    "import numpy as np\n",
    "import matplotlib.pyplot as plt\n",
    "import seaborn as sns\n",
    "import nltk\n",
    "import re"
   ]
  },
  {
   "cell_type": "code",
   "execution_count": 2,
   "id": "5c8ee581",
   "metadata": {},
   "outputs": [
    {
     "name": "stderr",
     "output_type": "stream",
     "text": [
      "C:\\Users\\moizk\\Anaconda3\\lib\\site-packages\\IPython\\core\\interactiveshell.py:3444: DtypeWarning: Columns (0) have mixed types.Specify dtype option on import or set low_memory=False.\n",
      "  exec(code_obj, self.user_global_ns, self.user_ns)\n"
     ]
    },
    {
     "data": {
      "text/html": [
       "<div>\n",
       "<style scoped>\n",
       "    .dataframe tbody tr th:only-of-type {\n",
       "        vertical-align: middle;\n",
       "    }\n",
       "\n",
       "    .dataframe tbody tr th {\n",
       "        vertical-align: top;\n",
       "    }\n",
       "\n",
       "    .dataframe thead th {\n",
       "        text-align: right;\n",
       "    }\n",
       "</style>\n",
       "<table border=\"1\" class=\"dataframe\">\n",
       "  <thead>\n",
       "    <tr style=\"text-align: right;\">\n",
       "      <th></th>\n",
       "      <th>Index</th>\n",
       "      <th>Headline</th>\n",
       "      <th>News Text</th>\n",
       "      <th>Category</th>\n",
       "      <th>Date</th>\n",
       "      <th>URL</th>\n",
       "      <th>Source</th>\n",
       "      <th>News length</th>\n",
       "    </tr>\n",
       "  </thead>\n",
       "  <tbody>\n",
       "    <tr>\n",
       "      <th>0</th>\n",
       "      <td>0</td>\n",
       "      <td>عالمی بینک عسکریت پسندی سے متاثرہ خاندانوں کی ...</td>\n",
       "      <td>اسلام باد عالمی بینک خیبرپختونخوا کے قبائلی اض...</td>\n",
       "      <td>Business &amp; Economics</td>\n",
       "      <td>06-12-2020</td>\n",
       "      <td>https://www.dawnnews.tv/news/1148499/</td>\n",
       "      <td>Dawn News</td>\n",
       "      <td>1854.0</td>\n",
       "    </tr>\n",
       "    <tr>\n",
       "      <th>1</th>\n",
       "      <td>1</td>\n",
       "      <td>مالی سال 2020 ریٹرن فائل کرنے والوں کی تعداد م...</td>\n",
       "      <td>اسلام باد فیڈرل بورڈ ریونیو ایف بی نے دسمبر کی...</td>\n",
       "      <td>Business &amp; Economics</td>\n",
       "      <td>06-12-2020</td>\n",
       "      <td>https://www.dawnnews.tv/news/1148498/</td>\n",
       "      <td>Dawn News</td>\n",
       "      <td>2016.0</td>\n",
       "    </tr>\n",
       "    <tr>\n",
       "      <th>2</th>\n",
       "      <td>2</td>\n",
       "      <td>جاپان کو سندھ کے خصوصی اقتصادی زون میں سرمایہ ...</td>\n",
       "      <td>اسلام باد بورڈ انویسٹمنٹ بی او ئی کے چیئرمین ع...</td>\n",
       "      <td>Business &amp; Economics</td>\n",
       "      <td>05-12-2020</td>\n",
       "      <td>https://www.dawnnews.tv/news/1148433/</td>\n",
       "      <td>Dawn News</td>\n",
       "      <td>2195.0</td>\n",
       "    </tr>\n",
       "    <tr>\n",
       "      <th>3</th>\n",
       "      <td>3</td>\n",
       "      <td>برامدات 767 فیصد بڑھ کر ارب 16 کروڑ ڈالر سے زائد</td>\n",
       "      <td>اسلام اباد پاکستان میں ماہ نومبر میں مسلسل تیس...</td>\n",
       "      <td>Business &amp; Economics</td>\n",
       "      <td>05-12-2020</td>\n",
       "      <td>https://www.dawnnews.tv/news/1148430/</td>\n",
       "      <td>Dawn News</td>\n",
       "      <td>2349.0</td>\n",
       "    </tr>\n",
       "    <tr>\n",
       "      <th>4</th>\n",
       "      <td>4</td>\n",
       "      <td>کے الیکٹرک کو اضافی بجلی گیس کی فراہمی کے قانو...</td>\n",
       "      <td>اسلام باد نیشنل ٹرانسمیشن اینڈ ڈسپیچ کمپنی این...</td>\n",
       "      <td>Business &amp; Economics</td>\n",
       "      <td>05-12-2020</td>\n",
       "      <td>https://www.dawnnews.tv/news/1148421/</td>\n",
       "      <td>Dawn News</td>\n",
       "      <td>2655.0</td>\n",
       "    </tr>\n",
       "    <tr>\n",
       "      <th>...</th>\n",
       "      <td>...</td>\n",
       "      <td>...</td>\n",
       "      <td>...</td>\n",
       "      <td>...</td>\n",
       "      <td>...</td>\n",
       "      <td>...</td>\n",
       "      <td>...</td>\n",
       "      <td>...</td>\n",
       "    </tr>\n",
       "    <tr>\n",
       "      <th>111857</th>\n",
       "      <td>111856</td>\n",
       "      <td>اسٹاک مارکیٹ 42000 کی حد بھی پھلانگ گئی</td>\n",
       "      <td>288 پوائنٹس ریکور انڈیکس 42004 پر گیا 67 فیصد ...</td>\n",
       "      <td>Business &amp; Economics</td>\n",
       "      <td>ہفتہ 3 نومبر 2018</td>\n",
       "      <td>https://www.express.pk/story/1407372/6</td>\n",
       "      <td>Express News</td>\n",
       "      <td>1185.0</td>\n",
       "    </tr>\n",
       "    <tr>\n",
       "      <th>111858</th>\n",
       "      <td>111857</td>\n",
       "      <td>ڈالر انٹربینک مارکیٹ میں مزید پیسے مہنگا</td>\n",
       "      <td>132 روپے 56 پیسے پر گیا اوپن مارکیٹ میں 50 پیس...</td>\n",
       "      <td>Business &amp; Economics</td>\n",
       "      <td>ہفتہ 3 نومبر 2018</td>\n",
       "      <td>https://www.express.pk/story/1407371/6</td>\n",
       "      <td>Express News</td>\n",
       "      <td>1047.0</td>\n",
       "    </tr>\n",
       "    <tr>\n",
       "      <th>111859</th>\n",
       "      <td>111858</td>\n",
       "      <td>ذائقے دار دودھ کے نام پر بننے والے ڈیری ڈرنکس ...</td>\n",
       "      <td>اسٹور اور فروخت کرنے پر پابندی ہو گی ڈی جی فوڈ...</td>\n",
       "      <td>Business &amp; Economics</td>\n",
       "      <td>ہفتہ 3 نومبر 2018</td>\n",
       "      <td>https://www.express.pk/story/1407370/6</td>\n",
       "      <td>Express News</td>\n",
       "      <td>1202.0</td>\n",
       "    </tr>\n",
       "    <tr>\n",
       "      <th>111860</th>\n",
       "      <td>111859</td>\n",
       "      <td>پٹرولیم مصنوعات مہنگی ہونے سے مہنگائی کا نیا ط...</td>\n",
       "      <td>ٹرانسپورٹرز نے کرائے بڑھا دیے لنڈا بازار میں ب...</td>\n",
       "      <td>Business &amp; Economics</td>\n",
       "      <td>جمعـء 2 نومبر 2018</td>\n",
       "      <td>https://www.express.pk/story/1405560/6</td>\n",
       "      <td>Express News</td>\n",
       "      <td>1045.0</td>\n",
       "    </tr>\n",
       "    <tr>\n",
       "      <th>111861</th>\n",
       "      <td>111860</td>\n",
       "      <td>پاکستان کو براستہ افغانستان ریلوے لائن کی ازبک...</td>\n",
       "      <td>ازبک وزیرخارجہ کی شاہ محمودسے ملاقاتتعاون بڑھان</td>\n",
       "      <td>NaN</td>\n",
       "      <td>NaN</td>\n",
       "      <td>NaN</td>\n",
       "      <td>NaN</td>\n",
       "      <td>NaN</td>\n",
       "    </tr>\n",
       "  </tbody>\n",
       "</table>\n",
       "<p>111862 rows × 8 columns</p>\n",
       "</div>"
      ],
      "text/plain": [
       "         Index                                           Headline  \\\n",
       "0            0  عالمی بینک عسکریت پسندی سے متاثرہ خاندانوں کی ...   \n",
       "1            1  مالی سال 2020 ریٹرن فائل کرنے والوں کی تعداد م...   \n",
       "2            2  جاپان کو سندھ کے خصوصی اقتصادی زون میں سرمایہ ...   \n",
       "3            3   برامدات 767 فیصد بڑھ کر ارب 16 کروڑ ڈالر سے زائد   \n",
       "4            4  کے الیکٹرک کو اضافی بجلی گیس کی فراہمی کے قانو...   \n",
       "...        ...                                                ...   \n",
       "111857  111856            اسٹاک مارکیٹ 42000 کی حد بھی پھلانگ گئی   \n",
       "111858  111857           ڈالر انٹربینک مارکیٹ میں مزید پیسے مہنگا   \n",
       "111859  111858  ذائقے دار دودھ کے نام پر بننے والے ڈیری ڈرنکس ...   \n",
       "111860  111859  پٹرولیم مصنوعات مہنگی ہونے سے مہنگائی کا نیا ط...   \n",
       "111861  111860  پاکستان کو براستہ افغانستان ریلوے لائن کی ازبک...   \n",
       "\n",
       "                                                News Text  \\\n",
       "0       اسلام باد عالمی بینک خیبرپختونخوا کے قبائلی اض...   \n",
       "1       اسلام باد فیڈرل بورڈ ریونیو ایف بی نے دسمبر کی...   \n",
       "2       اسلام باد بورڈ انویسٹمنٹ بی او ئی کے چیئرمین ع...   \n",
       "3       اسلام اباد پاکستان میں ماہ نومبر میں مسلسل تیس...   \n",
       "4       اسلام باد نیشنل ٹرانسمیشن اینڈ ڈسپیچ کمپنی این...   \n",
       "...                                                   ...   \n",
       "111857  288 پوائنٹس ریکور انڈیکس 42004 پر گیا 67 فیصد ...   \n",
       "111858  132 روپے 56 پیسے پر گیا اوپن مارکیٹ میں 50 پیس...   \n",
       "111859  اسٹور اور فروخت کرنے پر پابندی ہو گی ڈی جی فوڈ...   \n",
       "111860  ٹرانسپورٹرز نے کرائے بڑھا دیے لنڈا بازار میں ب...   \n",
       "111861    ازبک وزیرخارجہ کی شاہ محمودسے ملاقاتتعاون بڑھان   \n",
       "\n",
       "                    Category                 Date  \\\n",
       "0       Business & Economics           06-12-2020   \n",
       "1       Business & Economics           06-12-2020   \n",
       "2       Business & Economics           05-12-2020   \n",
       "3       Business & Economics           05-12-2020   \n",
       "4       Business & Economics           05-12-2020   \n",
       "...                      ...                  ...   \n",
       "111857  Business & Economics    ہفتہ 3 نومبر 2018   \n",
       "111858  Business & Economics    ہفتہ 3 نومبر 2018   \n",
       "111859  Business & Economics    ہفتہ 3 نومبر 2018   \n",
       "111860  Business & Economics   جمعـء 2 نومبر 2018   \n",
       "111861                   NaN                  NaN   \n",
       "\n",
       "                                           URL        Source  News length  \n",
       "0        https://www.dawnnews.tv/news/1148499/     Dawn News       1854.0  \n",
       "1        https://www.dawnnews.tv/news/1148498/     Dawn News       2016.0  \n",
       "2        https://www.dawnnews.tv/news/1148433/     Dawn News       2195.0  \n",
       "3        https://www.dawnnews.tv/news/1148430/     Dawn News       2349.0  \n",
       "4        https://www.dawnnews.tv/news/1148421/     Dawn News       2655.0  \n",
       "...                                        ...           ...          ...  \n",
       "111857  https://www.express.pk/story/1407372/6  Express News       1185.0  \n",
       "111858  https://www.express.pk/story/1407371/6  Express News       1047.0  \n",
       "111859  https://www.express.pk/story/1407370/6  Express News       1202.0  \n",
       "111860  https://www.express.pk/story/1405560/6  Express News       1045.0  \n",
       "111861                                     NaN           NaN          NaN  \n",
       "\n",
       "[111862 rows x 8 columns]"
      ]
     },
     "execution_count": 2,
     "metadata": {},
     "output_type": "execute_result"
    }
   ],
   "source": [
    "df=pd.read_csv('urdu-news-dataset.csv',encoding='utf-8')\n",
    "df"
   ]
  },
  {
   "cell_type": "code",
   "execution_count": 4,
   "id": "5a1b3f89",
   "metadata": {},
   "outputs": [
    {
     "data": {
      "text/plain": [
       "(111862, 8)"
      ]
     },
     "execution_count": 4,
     "metadata": {},
     "output_type": "execute_result"
    }
   ],
   "source": [
    "df.shape"
   ]
  },
  {
   "cell_type": "code",
   "execution_count": 5,
   "id": "24b005f1",
   "metadata": {},
   "outputs": [
    {
     "name": "stdout",
     "output_type": "stream",
     "text": [
      "<class 'pandas.core.frame.DataFrame'>\n",
      "RangeIndex: 111862 entries, 0 to 111861\n",
      "Data columns (total 8 columns):\n",
      " #   Column       Non-Null Count   Dtype  \n",
      "---  ------       --------------   -----  \n",
      " 0   Index        111862 non-null  object \n",
      " 1   Headline     111862 non-null  object \n",
      " 2   News Text    111840 non-null  object \n",
      " 3   Category     111860 non-null  object \n",
      " 4   Date         111860 non-null  object \n",
      " 5   URL          111860 non-null  object \n",
      " 6   Source       111859 non-null  object \n",
      " 7   News length  111859 non-null  float64\n",
      "dtypes: float64(1), object(7)\n",
      "memory usage: 6.8+ MB\n"
     ]
    }
   ],
   "source": [
    "df.info()"
   ]
  },
  {
   "cell_type": "code",
   "execution_count": 6,
   "id": "4ab50ad9",
   "metadata": {},
   "outputs": [],
   "source": [
    "df.drop(['Index','Date','URL','Source'],axis=1,inplace=True)"
   ]
  },
  {
   "cell_type": "code",
   "execution_count": 7,
   "id": "881d922c",
   "metadata": {},
   "outputs": [
    {
     "data": {
      "text/plain": [
       "Headline        0\n",
       "News Text      22\n",
       "Category        2\n",
       "News length     3\n",
       "dtype: int64"
      ]
     },
     "execution_count": 7,
     "metadata": {},
     "output_type": "execute_result"
    }
   ],
   "source": [
    "df.isnull().sum()"
   ]
  },
  {
   "cell_type": "code",
   "execution_count": 8,
   "id": "f4dbe557",
   "metadata": {},
   "outputs": [],
   "source": [
    "df.dropna(axis='rows',inplace=True)"
   ]
  },
  {
   "cell_type": "code",
   "execution_count": 9,
   "id": "b4ca78ca",
   "metadata": {},
   "outputs": [
    {
     "data": {
      "text/plain": [
       "Headline       0\n",
       "News Text      0\n",
       "Category       0\n",
       "News length    0\n",
       "dtype: int64"
      ]
     },
     "execution_count": 9,
     "metadata": {},
     "output_type": "execute_result"
    }
   ],
   "source": [
    "df.isnull().sum()"
   ]
  },
  {
   "cell_type": "code",
   "execution_count": 10,
   "id": "6711a0c2",
   "metadata": {},
   "outputs": [
    {
     "data": {
      "text/plain": [
       "Sports                  44824\n",
       "Entertainment           34898\n",
       "Business & Economics    24119\n",
       "Science & Technology     7997\n",
       "Name: Category, dtype: int64"
      ]
     },
     "execution_count": 10,
     "metadata": {},
     "output_type": "execute_result"
    }
   ],
   "source": [
    "df['Category'].value_counts()"
   ]
  },
  {
   "cell_type": "code",
   "execution_count": 11,
   "id": "636d4cb9",
   "metadata": {},
   "outputs": [
    {
     "data": {
      "text/plain": [
       "Text(0.5, 1.0, 'The label percentage in dataset')"
      ]
     },
     "execution_count": 11,
     "metadata": {},
     "output_type": "execute_result"
    },
    {
     "data": {
      "image/png": "[encoded data removed]",
      "text/plain": [
       "<Figure size 1296x432 with 1 Axes>"
      ]
     },
     "metadata": {},
     "output_type": "display_data"
    }
   ],
   "source": [
    "#to visuaize the label percentage in the train dataset\n",
    "cat=df['Category'].value_counts()\n",
    "#to visualize the above information in the pie chart\n",
    "plt.figure(figsize=(18,6))\n",
    "plt.pie(cat,labels=['Sports','Entertainment','Business & Economics','Science & Technology'],colors=['blue','maroon','yellow','green'],autopct='%1.1f%%',)\n",
    "#set the title name with fontsize \n",
    "plt.title(\"The label percentage in dataset\",fontsize=32)"
   ]
  },
  {
   "cell_type": "code",
   "execution_count": 11,
   "id": "4aa11458",
   "metadata": {},
   "outputs": [
    {
     "data": {
      "text/html": [
       "<div>\n",
       "<style scoped>\n",
       "    .dataframe tbody tr th:only-of-type {\n",
       "        vertical-align: middle;\n",
       "    }\n",
       "\n",
       "    .dataframe tbody tr th {\n",
       "        vertical-align: top;\n",
       "    }\n",
       "\n",
       "    .dataframe thead th {\n",
       "        text-align: right;\n",
       "    }\n",
       "</style>\n",
       "<table border=\"1\" class=\"dataframe\">\n",
       "  <thead>\n",
       "    <tr style=\"text-align: right;\">\n",
       "      <th></th>\n",
       "      <th>Headline</th>\n",
       "      <th>News Text</th>\n",
       "      <th>Category</th>\n",
       "      <th>News length</th>\n",
       "    </tr>\n",
       "  </thead>\n",
       "  <tbody>\n",
       "    <tr>\n",
       "      <th>0</th>\n",
       "      <td>عالمی بینک عسکریت پسندی سے متاثرہ خاندانوں کی ...</td>\n",
       "      <td>اسلام باد عالمی بینک خیبرپختونخوا کے قبائلی اض...</td>\n",
       "      <td>Business &amp; Economics</td>\n",
       "      <td>1854.0</td>\n",
       "    </tr>\n",
       "    <tr>\n",
       "      <th>1</th>\n",
       "      <td>مالی سال 2020 ریٹرن فائل کرنے والوں کی تعداد م...</td>\n",
       "      <td>اسلام باد فیڈرل بورڈ ریونیو ایف بی نے دسمبر کی...</td>\n",
       "      <td>Business &amp; Economics</td>\n",
       "      <td>2016.0</td>\n",
       "    </tr>\n",
       "    <tr>\n",
       "      <th>2</th>\n",
       "      <td>جاپان کو سندھ کے خصوصی اقتصادی زون میں سرمایہ ...</td>\n",
       "      <td>اسلام باد بورڈ انویسٹمنٹ بی او ئی کے چیئرمین ع...</td>\n",
       "      <td>Business &amp; Economics</td>\n",
       "      <td>2195.0</td>\n",
       "    </tr>\n",
       "    <tr>\n",
       "      <th>3</th>\n",
       "      <td>برامدات 767 فیصد بڑھ کر ارب 16 کروڑ ڈالر سے زائد</td>\n",
       "      <td>اسلام اباد پاکستان میں ماہ نومبر میں مسلسل تیس...</td>\n",
       "      <td>Business &amp; Economics</td>\n",
       "      <td>2349.0</td>\n",
       "    </tr>\n",
       "    <tr>\n",
       "      <th>4</th>\n",
       "      <td>کے الیکٹرک کو اضافی بجلی گیس کی فراہمی کے قانو...</td>\n",
       "      <td>اسلام باد نیشنل ٹرانسمیشن اینڈ ڈسپیچ کمپنی این...</td>\n",
       "      <td>Business &amp; Economics</td>\n",
       "      <td>2655.0</td>\n",
       "    </tr>\n",
       "    <tr>\n",
       "      <th>...</th>\n",
       "      <td>...</td>\n",
       "      <td>...</td>\n",
       "      <td>...</td>\n",
       "      <td>...</td>\n",
       "    </tr>\n",
       "    <tr>\n",
       "      <th>111856</th>\n",
       "      <td>زرمبادلہ کے سرکاری ذخائر میں مزید کروڑ 80 لاکھ...</td>\n",
       "      <td>26 اکتوبر کو زرمبادلہ کے ذخائر 14 ارب 18 کروڑ ...</td>\n",
       "      <td>Business &amp; Economics</td>\n",
       "      <td>603.0</td>\n",
       "    </tr>\n",
       "    <tr>\n",
       "      <th>111857</th>\n",
       "      <td>اسٹاک مارکیٹ 42000 کی حد بھی پھلانگ گئی</td>\n",
       "      <td>288 پوائنٹس ریکور انڈیکس 42004 پر گیا 67 فیصد ...</td>\n",
       "      <td>Business &amp; Economics</td>\n",
       "      <td>1185.0</td>\n",
       "    </tr>\n",
       "    <tr>\n",
       "      <th>111858</th>\n",
       "      <td>ڈالر انٹربینک مارکیٹ میں مزید پیسے مہنگا</td>\n",
       "      <td>132 روپے 56 پیسے پر گیا اوپن مارکیٹ میں 50 پیس...</td>\n",
       "      <td>Business &amp; Economics</td>\n",
       "      <td>1047.0</td>\n",
       "    </tr>\n",
       "    <tr>\n",
       "      <th>111859</th>\n",
       "      <td>ذائقے دار دودھ کے نام پر بننے والے ڈیری ڈرنکس ...</td>\n",
       "      <td>اسٹور اور فروخت کرنے پر پابندی ہو گی ڈی جی فوڈ...</td>\n",
       "      <td>Business &amp; Economics</td>\n",
       "      <td>1202.0</td>\n",
       "    </tr>\n",
       "    <tr>\n",
       "      <th>111860</th>\n",
       "      <td>پٹرولیم مصنوعات مہنگی ہونے سے مہنگائی کا نیا ط...</td>\n",
       "      <td>ٹرانسپورٹرز نے کرائے بڑھا دیے لنڈا بازار میں ب...</td>\n",
       "      <td>Business &amp; Economics</td>\n",
       "      <td>1045.0</td>\n",
       "    </tr>\n",
       "  </tbody>\n",
       "</table>\n",
       "<p>111838 rows × 4 columns</p>\n",
       "</div>"
      ],
      "text/plain": [
       "                                                 Headline  \\\n",
       "0       عالمی بینک عسکریت پسندی سے متاثرہ خاندانوں کی ...   \n",
       "1       مالی سال 2020 ریٹرن فائل کرنے والوں کی تعداد م...   \n",
       "2       جاپان کو سندھ کے خصوصی اقتصادی زون میں سرمایہ ...   \n",
       "3        برامدات 767 فیصد بڑھ کر ارب 16 کروڑ ڈالر سے زائد   \n",
       "4       کے الیکٹرک کو اضافی بجلی گیس کی فراہمی کے قانو...   \n",
       "...                                                   ...   \n",
       "111856  زرمبادلہ کے سرکاری ذخائر میں مزید کروڑ 80 لاکھ...   \n",
       "111857            اسٹاک مارکیٹ 42000 کی حد بھی پھلانگ گئی   \n",
       "111858           ڈالر انٹربینک مارکیٹ میں مزید پیسے مہنگا   \n",
       "111859  ذائقے دار دودھ کے نام پر بننے والے ڈیری ڈرنکس ...   \n",
       "111860  پٹرولیم مصنوعات مہنگی ہونے سے مہنگائی کا نیا ط...   \n",
       "\n",
       "                                                News Text  \\\n",
       "0       اسلام باد عالمی بینک خیبرپختونخوا کے قبائلی اض...   \n",
       "1       اسلام باد فیڈرل بورڈ ریونیو ایف بی نے دسمبر کی...   \n",
       "2       اسلام باد بورڈ انویسٹمنٹ بی او ئی کے چیئرمین ع...   \n",
       "3       اسلام اباد پاکستان میں ماہ نومبر میں مسلسل تیس...   \n",
       "4       اسلام باد نیشنل ٹرانسمیشن اینڈ ڈسپیچ کمپنی این...   \n",
       "...                                                   ...   \n",
       "111856  26 اکتوبر کو زرمبادلہ کے ذخائر 14 ارب 18 کروڑ ...   \n",
       "111857  288 پوائنٹس ریکور انڈیکس 42004 پر گیا 67 فیصد ...   \n",
       "111858  132 روپے 56 پیسے پر گیا اوپن مارکیٹ میں 50 پیس...   \n",
       "111859  اسٹور اور فروخت کرنے پر پابندی ہو گی ڈی جی فوڈ...   \n",
       "111860  ٹرانسپورٹرز نے کرائے بڑھا دیے لنڈا بازار میں ب...   \n",
       "\n",
       "                    Category  News length  \n",
       "0       Business & Economics       1854.0  \n",
       "1       Business & Economics       2016.0  \n",
       "2       Business & Economics       2195.0  \n",
       "3       Business & Economics       2349.0  \n",
       "4       Business & Economics       2655.0  \n",
       "...                      ...          ...  \n",
       "111856  Business & Economics        603.0  \n",
       "111857  Business & Economics       1185.0  \n",
       "111858  Business & Economics       1047.0  \n",
       "111859  Business & Economics       1202.0  \n",
       "111860  Business & Economics       1045.0  \n",
       "\n",
       "[111838 rows x 4 columns]"
      ]
     },
     "execution_count": 11,
     "metadata": {},
     "output_type": "execute_result"
    }
   ],
   "source": [
    "df"
   ]
  },
  {
   "cell_type": "code",
   "execution_count": 12,
   "id": "321b65ee",
   "metadata": {
    "scrolled": true
   },
   "outputs": [
    {
     "data": {
      "text/plain": [
       "'ملک میں سونے کی فی تولہ قیمت میں ایک بار پھر 1650 روپے کی بڑی کمی دیکھنے میں ئی ہےل سندھ صراف اینڈ جیولرز ایسوسی ایشن کے مطابق ملک میں 24 قیراط سونے کی فی تولہ قیمت 1650 روپے کمی کے بعد ایک لاکھ 11 ہزار 600 روپے ہوگئی ہےاسی طرح 10 گرام سونا 1414 روپے سستا ہوکر 95 ہزار 680 روپے کا ہوگیا ہےمقامی مارکیٹوں میں سونے کی قیمت میں نمایاں کمی کی وجہ عالمی مارکیٹ میں سونے کی قیمت میں واضح کمی ہے جہاں فی اونس سونا 22 ڈالر کم ہو کر 1872 ڈالر ہوگیایہ بھی پڑھیں پاکستان میں فی تولہ سونے کی قیمت میں نمایاں کمی واضح رہے کہ چند ماہ قبل عالمی مارکیٹ میں فی اونس سونے کی قیمت ہزار ڈالر سے تجاوز کر گئی تھی جس کا اثر مقامی مارکیٹ میں بھی نظر یاپاکستان میں اگست 2020 کے پہلے ہفتے میں سونے کی فی تولہ قیمت ایک لاکھ 32 ہزار روپے کی بلند ترین سطح تک پہنچ گئی تھیماہرین نے چین اور بھارت کی جانب سے سونے کی بڑھتی ہوئی خریداری امریکا اور چین کے درمیان کشیدگی میں اضافے سے اہم کرنسیوں کی قدر میں کمی سونے میں سرمایہ کاری بڑھنے اور کورونا وائرس کے باعث پیدا ہونے والے معاشی بحران کو مقامی اور بین الاقوامی مارکیٹوں میں سونے کی قیمتوں میں اس قدر اضافے کی وجہ قرار دیا تھا'"
      ]
     },
     "execution_count": 12,
     "metadata": {},
     "output_type": "execute_result"
    }
   ],
   "source": [
    "df['News Text'][100]"
   ]
  },
  {
   "cell_type": "markdown",
   "id": "7229d3c3",
   "metadata": {},
   "source": [
    "# PART 1"
   ]
  },
  {
   "cell_type": "markdown",
   "id": "b070a026",
   "metadata": {},
   "source": [
    "## TAKING HEADLINE AS INDPENDENT COLUMN"
   ]
  },
  {
   "cell_type": "code",
   "execution_count": 13,
   "id": "3831ffde",
   "metadata": {},
   "outputs": [],
   "source": [
    "X=df['Headline'].copy()\n",
    "y=df['Category'].copy()"
   ]
  },
  {
   "cell_type": "code",
   "execution_count": 14,
   "id": "bd8d0aad",
   "metadata": {},
   "outputs": [],
   "source": [
    "from sklearn.feature_extraction.text import TfidfVectorizer\n",
    "vector=TfidfVectorizer()\n",
    "vector.fit(X)\n",
    "X=vector.transform(X)"
   ]
  },
  {
   "cell_type": "code",
   "execution_count": 15,
   "id": "69060eed",
   "metadata": {},
   "outputs": [
    {
     "name": "stdout",
     "output_type": "stream",
     "text": [
      "(74931, 46502) (36907, 46502) (74931,) (36907,)\n"
     ]
    }
   ],
   "source": [
    "from sklearn.model_selection import train_test_split\n",
    "X_train, X_test, y_train, y_test = train_test_split(X, y, test_size=0.33, random_state=42)\n",
    "print(X_train.shape, X_test.shape, y_train.shape, y_test.shape)"
   ]
  },
  {
   "cell_type": "code",
   "execution_count": 16,
   "id": "b991ca7b",
   "metadata": {},
   "outputs": [
    {
     "name": "stderr",
     "output_type": "stream",
     "text": [
      "C:\\Users\\moizk\\Anaconda3\\lib\\site-packages\\sklearn\\linear_model\\_logistic.py:444: ConvergenceWarning: lbfgs failed to converge (status=1):\n",
      "STOP: TOTAL NO. of ITERATIONS REACHED LIMIT.\n",
      "\n",
      "Increase the number of iterations (max_iter) or scale the data as shown in:\n",
      "    https://scikit-learn.org/stable/modules/preprocessing.html\n",
      "Please also refer to the documentation for alternative solver options:\n",
      "    https://scikit-learn.org/stable/modules/linear_model.html#logistic-regression\n",
      "  n_iter_i = _check_optimize_result(\n"
     ]
    },
    {
     "data": {
      "text/html": [
       "<style>#sk-container-id-1 {color: black;background-color: white;}#sk-container-id-1 pre{padding: 0;}#sk-container-id-1 div.sk-toggleable {background-color: white;}#sk-container-id-1 label.sk-toggleable__label {cursor: pointer;display: block;width: 100%;margin-bottom: 0;padding: 0.3em;box-sizing: border-box;text-align: center;}#sk-container-id-1 label.sk-toggleable__label-arrow:before {content: \"▸\";float: left;margin-right: 0.25em;color: #696969;}#sk-container-id-1 label.sk-toggleable__label-arrow:hover:before {color: black;}#sk-container-id-1 div.sk-estimator:hover label.sk-toggleable__label-arrow:before {color: black;}#sk-container-id-1 div.sk-toggleable__content {max-height: 0;max-width: 0;overflow: hidden;text-align: left;background-color: #f0f8ff;}#sk-container-id-1 div.sk-toggleable__content pre {margin: 0.2em;color: black;border-radius: 0.25em;background-color: #f0f8ff;}#sk-container-id-1 input.sk-toggleable__control:checked~div.sk-toggleable__content {max-height: 200px;max-width: 100%;overflow: auto;}#sk-container-id-1 input.sk-toggleable__control:checked~label.sk-toggleable__label-arrow:before {content: \"▾\";}#sk-container-id-1 div.sk-estimator input.sk-toggleable__control:checked~label.sk-toggleable__label {background-color: #d4ebff;}#sk-container-id-1 div.sk-label input.sk-toggleable__control:checked~label.sk-toggleable__label {background-color: #d4ebff;}#sk-container-id-1 input.sk-hidden--visually {border: 0;clip: rect(1px 1px 1px 1px);clip: rect(1px, 1px, 1px, 1px);height: 1px;margin: -1px;overflow: hidden;padding: 0;position: absolute;width: 1px;}#sk-container-id-1 div.sk-estimator {font-family: monospace;background-color: #f0f8ff;border: 1px dotted black;border-radius: 0.25em;box-sizing: border-box;margin-bottom: 0.5em;}#sk-container-id-1 div.sk-estimator:hover {background-color: #d4ebff;}#sk-container-id-1 div.sk-parallel-item::after {content: \"\";width: 100%;border-bottom: 1px solid gray;flex-grow: 1;}#sk-container-id-1 div.sk-label:hover label.sk-toggleable__label {background-color: #d4ebff;}#sk-container-id-1 div.sk-serial::before {content: \"\";position: absolute;border-left: 1px solid gray;box-sizing: border-box;top: 0;bottom: 0;left: 50%;z-index: 0;}#sk-container-id-1 div.sk-serial {display: flex;flex-direction: column;align-items: center;background-color: white;padding-right: 0.2em;padding-left: 0.2em;position: relative;}#sk-container-id-1 div.sk-item {position: relative;z-index: 1;}#sk-container-id-1 div.sk-parallel {display: flex;align-items: stretch;justify-content: center;background-color: white;position: relative;}#sk-container-id-1 div.sk-item::before, #sk-container-id-1 div.sk-parallel-item::before {content: \"\";position: absolute;border-left: 1px solid gray;box-sizing: border-box;top: 0;bottom: 0;left: 50%;z-index: -1;}#sk-container-id-1 div.sk-parallel-item {display: flex;flex-direction: column;z-index: 1;position: relative;background-color: white;}#sk-container-id-1 div.sk-parallel-item:first-child::after {align-self: flex-end;width: 50%;}#sk-container-id-1 div.sk-parallel-item:last-child::after {align-self: flex-start;width: 50%;}#sk-container-id-1 div.sk-parallel-item:only-child::after {width: 0;}#sk-container-id-1 div.sk-dashed-wrapped {border: 1px dashed gray;margin: 0 0.4em 0.5em 0.4em;box-sizing: border-box;padding-bottom: 0.4em;background-color: white;}#sk-container-id-1 div.sk-label label {font-family: monospace;font-weight: bold;display: inline-block;line-height: 1.2em;}#sk-container-id-1 div.sk-label-container {text-align: center;}#sk-container-id-1 div.sk-container {/* jupyter's `normalize.less` sets `[hidden] { display: none; }` but bootstrap.min.css set `[hidden] { display: none !important; }` so we also need the `!important` here to be able to override the default hidden behavior on the sphinx rendered scikit-learn.org. See: https://github.com/scikit-learn/scikit-learn/issues/21755 */display: inline-block !important;position: relative;}#sk-container-id-1 div.sk-text-repr-fallback {display: none;}</style><div id=\"sk-container-id-1\" class=\"sk-top-container\"><div class=\"sk-text-repr-fallback\"><pre>LogisticRegression()</pre><b>In a Jupyter environment, please rerun this cell to show the HTML representation or trust the notebook. <br />On GitHub, the HTML representation is unable to render, please try loading this page with nbviewer.org.</b></div><div class=\"sk-container\" hidden><div class=\"sk-item\"><div class=\"sk-estimator sk-toggleable\"><input class=\"sk-toggleable__control sk-hidden--visually\" id=\"sk-estimator-id-1\" type=\"checkbox\" checked><label for=\"sk-estimator-id-1\" class=\"sk-toggleable__label sk-toggleable__label-arrow\">LogisticRegression</label><div class=\"sk-toggleable__content\"><pre>LogisticRegression()</pre></div></div></div></div></div>"
      ],
      "text/plain": [
       "LogisticRegression()"
      ]
     },
     "execution_count": 16,
     "metadata": {},
     "output_type": "execute_result"
    }
   ],
   "source": [
    "from sklearn.linear_model import LogisticRegression\n",
    "logistic=LogisticRegression()\n",
    "logistic.fit(X_train,y_train)"
   ]
  },
  {
   "cell_type": "code",
   "execution_count": 17,
   "id": "59b1cf35",
   "metadata": {},
   "outputs": [
    {
     "data": {
      "text/plain": [
       "array(['Entertainment', 'Entertainment', 'Entertainment', ..., 'Sports',\n",
       "       'Sports', 'Entertainment'], dtype=object)"
      ]
     },
     "execution_count": 17,
     "metadata": {},
     "output_type": "execute_result"
    }
   ],
   "source": [
    "logistic_pred=logistic.predict(X_test)\n",
    "logistic_pred"
   ]
  },
  {
   "cell_type": "code",
   "execution_count": 18,
   "id": "b7cdadf4",
   "metadata": {},
   "outputs": [
    {
     "name": "stdout",
     "output_type": "stream",
     "text": [
      "The Logisticregression model test score is 93.94\n",
      "The Logisticregression model train scores is 96.29\n",
      "The logisticRegression accuracy_score 93.94\n"
     ]
    }
   ],
   "source": [
    "from sklearn.metrics import accuracy_score,classification_report,confusion_matrix\n",
    "#Check the test score and train score to the model\n",
    "print(f'The Logisticregression model test score is {logistic.score(X_test,y_test)*100:.2f}')\n",
    "#Train score for the data\n",
    "print(f'The Logisticregression model train scores is {logistic.score(X_train,y_train)*100:.2f}')\n",
    "#Check the accuracy_score to the model\n",
    "print(f'The logisticRegression accuracy_score {accuracy_score(y_test,logistic_pred)*100:.2f}')"
   ]
  },
  {
   "cell_type": "code",
   "execution_count": 19,
   "id": "df538841",
   "metadata": {},
   "outputs": [
    {
     "name": "stdout",
     "output_type": "stream",
     "text": [
      "                      precision    recall  f1-score   support\n",
      "\n",
      "Business & Economics       0.95      0.96      0.95      7981\n",
      "       Entertainment       0.91      0.94      0.92     11407\n",
      "Science & Technology       0.89      0.78      0.83      2649\n",
      "              Sports       0.97      0.96      0.96     14870\n",
      "\n",
      "            accuracy                           0.94     36907\n",
      "           macro avg       0.93      0.91      0.92     36907\n",
      "        weighted avg       0.94      0.94      0.94     36907\n",
      "\n"
     ]
    },
    {
     "data": {
      "text/plain": [
       "<AxesSubplot:>"
      ]
     },
     "execution_count": 19,
     "metadata": {},
     "output_type": "execute_result"
    },
    {
     "data": {
      "image/png": "[encoded data removed]",
      "text/plain": [
       "<Figure size 432x288 with 2 Axes>"
      ]
     },
     "metadata": {
      "needs_background": "light"
     },
     "output_type": "display_data"
    }
   ],
   "source": [
    "#Classification report\n",
    "print(classification_report(y_test,logistic_pred))\n",
    "#confusion_matrix\n",
    "cn=confusion_matrix(y_test,logistic_pred)\n",
    "sns.heatmap(cn,annot=True,cmap='cubehelix_r',xticklabels=['Sports','Entertainment','Business & Economics','Science & Technology'],yticklabels=['Sports','Entertainment','Business & Economics','Science & Technology'])"
   ]
  },
  {
   "cell_type": "code",
   "execution_count": 20,
   "id": "8cb88e09",
   "metadata": {},
   "outputs": [],
   "source": [
    "df1=pd.DataFrame(logistic_pred,y_test)"
   ]
  },
  {
   "cell_type": "code",
   "execution_count": 21,
   "id": "fcb88a3d",
   "metadata": {},
   "outputs": [],
   "source": [
    "df1.rename(columns = {0:'Pred'}, inplace = True)"
   ]
  },
  {
   "cell_type": "markdown",
   "id": "129e2ca2",
   "metadata": {},
   "source": [
    "df1.set_axis([ 'Pred'], axis='columns', inplace=True)"
   ]
  },
  {
   "cell_type": "code",
   "execution_count": 22,
   "id": "0b9ab767",
   "metadata": {},
   "outputs": [
    {
     "data": {
      "text/html": [
       "<div>\n",
       "<style scoped>\n",
       "    .dataframe tbody tr th:only-of-type {\n",
       "        vertical-align: middle;\n",
       "    }\n",
       "\n",
       "    .dataframe tbody tr th {\n",
       "        vertical-align: top;\n",
       "    }\n",
       "\n",
       "    .dataframe thead th {\n",
       "        text-align: right;\n",
       "    }\n",
       "</style>\n",
       "<table border=\"1\" class=\"dataframe\">\n",
       "  <thead>\n",
       "    <tr style=\"text-align: right;\">\n",
       "      <th></th>\n",
       "      <th>Pred</th>\n",
       "    </tr>\n",
       "    <tr>\n",
       "      <th>Category</th>\n",
       "      <th></th>\n",
       "    </tr>\n",
       "  </thead>\n",
       "  <tbody>\n",
       "    <tr>\n",
       "      <th>Sports</th>\n",
       "      <td>Entertainment</td>\n",
       "    </tr>\n",
       "    <tr>\n",
       "      <th>Entertainment</th>\n",
       "      <td>Entertainment</td>\n",
       "    </tr>\n",
       "    <tr>\n",
       "      <th>Entertainment</th>\n",
       "      <td>Entertainment</td>\n",
       "    </tr>\n",
       "    <tr>\n",
       "      <th>Sports</th>\n",
       "      <td>Sports</td>\n",
       "    </tr>\n",
       "    <tr>\n",
       "      <th>Sports</th>\n",
       "      <td>Sports</td>\n",
       "    </tr>\n",
       "    <tr>\n",
       "      <th>...</th>\n",
       "      <td>...</td>\n",
       "    </tr>\n",
       "    <tr>\n",
       "      <th>Sports</th>\n",
       "      <td>Sports</td>\n",
       "    </tr>\n",
       "    <tr>\n",
       "      <th>Entertainment</th>\n",
       "      <td>Entertainment</td>\n",
       "    </tr>\n",
       "    <tr>\n",
       "      <th>Sports</th>\n",
       "      <td>Sports</td>\n",
       "    </tr>\n",
       "    <tr>\n",
       "      <th>Sports</th>\n",
       "      <td>Sports</td>\n",
       "    </tr>\n",
       "    <tr>\n",
       "      <th>Entertainment</th>\n",
       "      <td>Entertainment</td>\n",
       "    </tr>\n",
       "  </tbody>\n",
       "</table>\n",
       "<p>36907 rows × 1 columns</p>\n",
       "</div>"
      ],
      "text/plain": [
       "                        Pred\n",
       "Category                    \n",
       "Sports         Entertainment\n",
       "Entertainment  Entertainment\n",
       "Entertainment  Entertainment\n",
       "Sports                Sports\n",
       "Sports                Sports\n",
       "...                      ...\n",
       "Sports                Sports\n",
       "Entertainment  Entertainment\n",
       "Sports                Sports\n",
       "Sports                Sports\n",
       "Entertainment  Entertainment\n",
       "\n",
       "[36907 rows x 1 columns]"
      ]
     },
     "execution_count": 22,
     "metadata": {},
     "output_type": "execute_result"
    }
   ],
   "source": [
    "df1"
   ]
  },
  {
   "cell_type": "markdown",
   "id": "7f9b8794",
   "metadata": {},
   "source": [
    "# PART 2"
   ]
  },
  {
   "cell_type": "markdown",
   "id": "acc7876a",
   "metadata": {},
   "source": [
    "## NOW TAKING INDEPENDENT COLUMN AS NEWS TEXT INSTEAD OF HEADLINE"
   ]
  },
  {
   "cell_type": "code",
   "execution_count": 13,
   "id": "94b0f045",
   "metadata": {},
   "outputs": [],
   "source": [
    "X=df['News Text'].copy()\n",
    "y=df['Category'].copy()"
   ]
  },
  {
   "cell_type": "code",
   "execution_count": 14,
   "id": "e137c182",
   "metadata": {},
   "outputs": [],
   "source": [
    "from sklearn.feature_extraction.text import TfidfVectorizer\n",
    "vector=TfidfVectorizer()\n",
    "vector.fit(X)\n",
    "X=vector.transform(X)"
   ]
  },
  {
   "cell_type": "code",
   "execution_count": 15,
   "id": "c128d5a1",
   "metadata": {},
   "outputs": [
    {
     "name": "stdout",
     "output_type": "stream",
     "text": [
      "(74931, 405080) (36907, 405080) (74931,) (36907,)\n"
     ]
    }
   ],
   "source": [
    "from sklearn.model_selection import train_test_split\n",
    "X_train, X_test, y_train, y_test = train_test_split(X, y, test_size=0.33, random_state=42)\n",
    "print(X_train.shape, X_test.shape, y_train.shape, y_test.shape)"
   ]
  },
  {
   "cell_type": "code",
   "execution_count": 16,
   "id": "defe4535",
   "metadata": {},
   "outputs": [
    {
     "name": "stderr",
     "output_type": "stream",
     "text": [
      "C:\\Users\\moizk\\Anaconda3\\lib\\site-packages\\sklearn\\linear_model\\_logistic.py:444: ConvergenceWarning: lbfgs failed to converge (status=1):\n",
      "STOP: TOTAL NO. of ITERATIONS REACHED LIMIT.\n",
      "\n",
      "Increase the number of iterations (max_iter) or scale the data as shown in:\n",
      "    https://scikit-learn.org/stable/modules/preprocessing.html\n",
      "Please also refer to the documentation for alternative solver options:\n",
      "    https://scikit-learn.org/stable/modules/linear_model.html#logistic-regression\n",
      "  n_iter_i = _check_optimize_result(\n"
     ]
    },
    {
     "data": {
      "text/html": [
       "<style>#sk-container-id-1 {color: black;background-color: white;}#sk-container-id-1 pre{padding: 0;}#sk-container-id-1 div.sk-toggleable {background-color: white;}#sk-container-id-1 label.sk-toggleable__label {cursor: pointer;display: block;width: 100%;margin-bottom: 0;padding: 0.3em;box-sizing: border-box;text-align: center;}#sk-container-id-1 label.sk-toggleable__label-arrow:before {content: \"▸\";float: left;margin-right: 0.25em;color: #696969;}#sk-container-id-1 label.sk-toggleable__label-arrow:hover:before {color: black;}#sk-container-id-1 div.sk-estimator:hover label.sk-toggleable__label-arrow:before {color: black;}#sk-container-id-1 div.sk-toggleable__content {max-height: 0;max-width: 0;overflow: hidden;text-align: left;background-color: #f0f8ff;}#sk-container-id-1 div.sk-toggleable__content pre {margin: 0.2em;color: black;border-radius: 0.25em;background-color: #f0f8ff;}#sk-container-id-1 input.sk-toggleable__control:checked~div.sk-toggleable__content {max-height: 200px;max-width: 100%;overflow: auto;}#sk-container-id-1 input.sk-toggleable__control:checked~label.sk-toggleable__label-arrow:before {content: \"▾\";}#sk-container-id-1 div.sk-estimator input.sk-toggleable__control:checked~label.sk-toggleable__label {background-color: #d4ebff;}#sk-container-id-1 div.sk-label input.sk-toggleable__control:checked~label.sk-toggleable__label {background-color: #d4ebff;}#sk-container-id-1 input.sk-hidden--visually {border: 0;clip: rect(1px 1px 1px 1px);clip: rect(1px, 1px, 1px, 1px);height: 1px;margin: -1px;overflow: hidden;padding: 0;position: absolute;width: 1px;}#sk-container-id-1 div.sk-estimator {font-family: monospace;background-color: #f0f8ff;border: 1px dotted black;border-radius: 0.25em;box-sizing: border-box;margin-bottom: 0.5em;}#sk-container-id-1 div.sk-estimator:hover {background-color: #d4ebff;}#sk-container-id-1 div.sk-parallel-item::after {content: \"\";width: 100%;border-bottom: 1px solid gray;flex-grow: 1;}#sk-container-id-1 div.sk-label:hover label.sk-toggleable__label {background-color: #d4ebff;}#sk-container-id-1 div.sk-serial::before {content: \"\";position: absolute;border-left: 1px solid gray;box-sizing: border-box;top: 0;bottom: 0;left: 50%;z-index: 0;}#sk-container-id-1 div.sk-serial {display: flex;flex-direction: column;align-items: center;background-color: white;padding-right: 0.2em;padding-left: 0.2em;position: relative;}#sk-container-id-1 div.sk-item {position: relative;z-index: 1;}#sk-container-id-1 div.sk-parallel {display: flex;align-items: stretch;justify-content: center;background-color: white;position: relative;}#sk-container-id-1 div.sk-item::before, #sk-container-id-1 div.sk-parallel-item::before {content: \"\";position: absolute;border-left: 1px solid gray;box-sizing: border-box;top: 0;bottom: 0;left: 50%;z-index: -1;}#sk-container-id-1 div.sk-parallel-item {display: flex;flex-direction: column;z-index: 1;position: relative;background-color: white;}#sk-container-id-1 div.sk-parallel-item:first-child::after {align-self: flex-end;width: 50%;}#sk-container-id-1 div.sk-parallel-item:last-child::after {align-self: flex-start;width: 50%;}#sk-container-id-1 div.sk-parallel-item:only-child::after {width: 0;}#sk-container-id-1 div.sk-dashed-wrapped {border: 1px dashed gray;margin: 0 0.4em 0.5em 0.4em;box-sizing: border-box;padding-bottom: 0.4em;background-color: white;}#sk-container-id-1 div.sk-label label {font-family: monospace;font-weight: bold;display: inline-block;line-height: 1.2em;}#sk-container-id-1 div.sk-label-container {text-align: center;}#sk-container-id-1 div.sk-container {/* jupyter's `normalize.less` sets `[hidden] { display: none; }` but bootstrap.min.css set `[hidden] { display: none !important; }` so we also need the `!important` here to be able to override the default hidden behavior on the sphinx rendered scikit-learn.org. See: https://github.com/scikit-learn/scikit-learn/issues/21755 */display: inline-block !important;position: relative;}#sk-container-id-1 div.sk-text-repr-fallback {display: none;}</style><div id=\"sk-container-id-1\" class=\"sk-top-container\"><div class=\"sk-text-repr-fallback\"><pre>LogisticRegression()</pre><b>In a Jupyter environment, please rerun this cell to show the HTML representation or trust the notebook. <br />On GitHub, the HTML representation is unable to render, please try loading this page with nbviewer.org.</b></div><div class=\"sk-container\" hidden><div class=\"sk-item\"><div class=\"sk-estimator sk-toggleable\"><input class=\"sk-toggleable__control sk-hidden--visually\" id=\"sk-estimator-id-1\" type=\"checkbox\" checked><label for=\"sk-estimator-id-1\" class=\"sk-toggleable__label sk-toggleable__label-arrow\">LogisticRegression</label><div class=\"sk-toggleable__content\"><pre>LogisticRegression()</pre></div></div></div></div></div>"
      ],
      "text/plain": [
       "LogisticRegression()"
      ]
     },
     "execution_count": 16,
     "metadata": {},
     "output_type": "execute_result"
    }
   ],
   "source": [
    "from sklearn.linear_model import LogisticRegression\n",
    "logistic=LogisticRegression()\n",
    "logistic.fit(X_train,y_train)"
   ]
  },
  {
   "cell_type": "code",
   "execution_count": 17,
   "id": "5e811e9c",
   "metadata": {},
   "outputs": [
    {
     "data": {
      "text/plain": [
       "array(['Sports', 'Entertainment', 'Entertainment', ..., 'Sports',\n",
       "       'Sports', 'Entertainment'], dtype=object)"
      ]
     },
     "execution_count": 17,
     "metadata": {},
     "output_type": "execute_result"
    }
   ],
   "source": [
    "logistic_pred=logistic.predict(X_test)\n",
    "logistic_pred"
   ]
  },
  {
   "cell_type": "code",
   "execution_count": 18,
   "id": "53826da6",
   "metadata": {},
   "outputs": [
    {
     "name": "stdout",
     "output_type": "stream",
     "text": [
      "The Logisticregression model test score is 97.09\n",
      "The Logisticregression model train scores is 98.16\n",
      "The logisticRegression accuracy_score 97.09\n"
     ]
    }
   ],
   "source": [
    "from sklearn.metrics import accuracy_score,classification_report,confusion_matrix\n",
    "#Check the test score and train score to the model\n",
    "print(f'The Logisticregression model test score is {logistic.score(X_test,y_test)*100:.2f}')\n",
    "#Train score for the data\n",
    "print(f'The Logisticregression model train scores is {logistic.score(X_train,y_train)*100:.2f}')\n",
    "#Check the accuracy_score to the model\n",
    "print(f'The logisticRegression accuracy_score {accuracy_score(y_test,logistic_pred)*100:.2f}')"
   ]
  },
  {
   "cell_type": "code",
   "execution_count": 19,
   "id": "4152da0d",
   "metadata": {},
   "outputs": [
    {
     "name": "stdout",
     "output_type": "stream",
     "text": [
      "                      precision    recall  f1-score   support\n",
      "\n",
      "Business & Economics       0.97      0.98      0.98      7981\n",
      "       Entertainment       0.96      0.96      0.96     11407\n",
      "Science & Technology       0.90      0.90      0.90      2649\n",
      "              Sports       0.99      0.98      0.99     14870\n",
      "\n",
      "            accuracy                           0.97     36907\n",
      "           macro avg       0.96      0.96      0.96     36907\n",
      "        weighted avg       0.97      0.97      0.97     36907\n",
      "\n"
     ]
    },
    {
     "data": {
      "text/plain": [
       "<AxesSubplot:>"
      ]
     },
     "execution_count": 19,
     "metadata": {},
     "output_type": "execute_result"
    },
    {
     "data": {
      "image/png": "[encoded data removed]",
      "text/plain": [
       "<Figure size 432x288 with 2 Axes>"
      ]
     },
     "metadata": {
      "needs_background": "light"
     },
     "output_type": "display_data"
    }
   ],
   "source": [
    "#Classification report\n",
    "print(classification_report(y_test,logistic_pred))\n",
    "#confusion_matrix\n",
    "cn=confusion_matrix(y_test,logistic_pred)\n",
    "sns.heatmap(cn,annot=True,cmap='cubehelix_r',xticklabels=['Sports','Entertainment','Business & Economics','Science & Technology'],yticklabels=['Sports','Entertainment','Business & Economics','Science & Technology'])"
   ]
  },
  {
   "cell_type": "code",
   "execution_count": 20,
   "id": "bd67385b",
   "metadata": {},
   "outputs": [],
   "source": [
    "df2=pd.DataFrame(logistic_pred,y_test)"
   ]
  },
  {
   "cell_type": "code",
   "execution_count": 21,
   "id": "e32b1d0b",
   "metadata": {},
   "outputs": [],
   "source": [
    "df2.rename(columns = {0:'Pred'}, inplace = True)"
   ]
  },
  {
   "cell_type": "code",
   "execution_count": 22,
   "id": "a5e2128d",
   "metadata": {},
   "outputs": [
    {
     "data": {
      "text/html": [
       "<div>\n",
       "<style scoped>\n",
       "    .dataframe tbody tr th:only-of-type {\n",
       "        vertical-align: middle;\n",
       "    }\n",
       "\n",
       "    .dataframe tbody tr th {\n",
       "        vertical-align: top;\n",
       "    }\n",
       "\n",
       "    .dataframe thead th {\n",
       "        text-align: right;\n",
       "    }\n",
       "</style>\n",
       "<table border=\"1\" class=\"dataframe\">\n",
       "  <thead>\n",
       "    <tr style=\"text-align: right;\">\n",
       "      <th></th>\n",
       "      <th>Pred</th>\n",
       "    </tr>\n",
       "    <tr>\n",
       "      <th>Category</th>\n",
       "      <th></th>\n",
       "    </tr>\n",
       "  </thead>\n",
       "  <tbody>\n",
       "    <tr>\n",
       "      <th>Sports</th>\n",
       "      <td>Sports</td>\n",
       "    </tr>\n",
       "    <tr>\n",
       "      <th>Entertainment</th>\n",
       "      <td>Entertainment</td>\n",
       "    </tr>\n",
       "    <tr>\n",
       "      <th>Entertainment</th>\n",
       "      <td>Entertainment</td>\n",
       "    </tr>\n",
       "    <tr>\n",
       "      <th>Sports</th>\n",
       "      <td>Sports</td>\n",
       "    </tr>\n",
       "    <tr>\n",
       "      <th>Sports</th>\n",
       "      <td>Sports</td>\n",
       "    </tr>\n",
       "    <tr>\n",
       "      <th>...</th>\n",
       "      <td>...</td>\n",
       "    </tr>\n",
       "    <tr>\n",
       "      <th>Sports</th>\n",
       "      <td>Sports</td>\n",
       "    </tr>\n",
       "    <tr>\n",
       "      <th>Entertainment</th>\n",
       "      <td>Entertainment</td>\n",
       "    </tr>\n",
       "    <tr>\n",
       "      <th>Sports</th>\n",
       "      <td>Sports</td>\n",
       "    </tr>\n",
       "    <tr>\n",
       "      <th>Sports</th>\n",
       "      <td>Sports</td>\n",
       "    </tr>\n",
       "    <tr>\n",
       "      <th>Entertainment</th>\n",
       "      <td>Entertainment</td>\n",
       "    </tr>\n",
       "  </tbody>\n",
       "</table>\n",
       "<p>36907 rows × 1 columns</p>\n",
       "</div>"
      ],
      "text/plain": [
       "                        Pred\n",
       "Category                    \n",
       "Sports                Sports\n",
       "Entertainment  Entertainment\n",
       "Entertainment  Entertainment\n",
       "Sports                Sports\n",
       "Sports                Sports\n",
       "...                      ...\n",
       "Sports                Sports\n",
       "Entertainment  Entertainment\n",
       "Sports                Sports\n",
       "Sports                Sports\n",
       "Entertainment  Entertainment\n",
       "\n",
       "[36907 rows x 1 columns]"
      ]
     },
     "execution_count": 22,
     "metadata": {},
     "output_type": "execute_result"
    }
   ],
   "source": [
    "df2"
   ]
  }
 ],
 "metadata": {
  "kernelspec": {
   "display_name": "Python 3 (ipykernel)",
   "language": "python",
   "name": "python3"
  },
  "language_info": {
   "codemirror_mode": {
    "name": "ipython",
    "version": 3
   },
   "file_extension": ".py",
   "mimetype": "text/x-python",
   "name": "python",
   "nbconvert_exporter": "python",
   "pygments_lexer": "ipython3",
   "version": "3.9.7"
  }
 },
 "nbformat": 4,
 "nbformat_minor": 5
}
